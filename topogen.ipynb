{
 "cells": [
  {
   "cell_type": "code",
   "execution_count": 4,
   "metadata": {},
   "outputs": [],
   "source": [
    "import networkx as nx\n",
    "\n",
    "T = nx.Graph()\n",
    "\n",
    "#1 Donor 2 IAB-Nodes 1 UE\n",
    "\n",
    "T.add_node(0, role='donor', channel=0)\n",
    "T.add_node(1, role='mt', channel = 0, prb=106, iab_parent='12')\n",
    "T.add_node(2, role='du', channel = 1, prb=106, iab_parent='12')\n",
    "T.add_node(3, role='mt', channel = 1, prb=106, iab_parent='34')\n",
    "T.add_node(4, role='du', channel = 2, prb=106, iab_parent='34')\n",
    "T.add_node(5, role='ue', channel = 2)\n",
    "\n",
    "\n",
    "T.add_edge(1,2, type='wired')\n",
    "T.add_edge(2,3, type='wireless')\n",
    "T.add_edge(3,4, type='wired')\n",
    "T.add_edge(4,5, type='wireless')\n",
    "\n",
    "nx.write_graphml(T, 'topologies/toy1.graphml')"
   ]
  }
 ],
 "metadata": {
  "kernelspec": {
   "display_name": "Python 3.8.10 64-bit",
   "language": "python",
   "name": "python3"
  },
  "language_info": {
   "codemirror_mode": {
    "name": "ipython",
    "version": 3
   },
   "file_extension": ".py",
   "mimetype": "text/x-python",
   "name": "python",
   "nbconvert_exporter": "python",
   "pygments_lexer": "ipython3",
   "version": "3.10.7"
  },
  "orig_nbformat": 4,
  "vscode": {
   "interpreter": {
    "hash": "916dbcbb3f70747c44a77c7bcd40155683ae19c65e1c03b4aa3499c5328201f1"
   }
  }
 },
 "nbformat": 4,
 "nbformat_minor": 2
}
