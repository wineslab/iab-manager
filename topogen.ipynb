{
 "cells": [
  {
   "cell_type": "code",
   "execution_count": 4,
   "metadata": {},
   "outputs": [],
   "source": [
    "import networkx as nx\n",
    "\n",
    "T = nx.DiGraph()\n",
    "\n",
    "\n",
    "#1-2-3-4-5-6-7-8-9-10\n",
    "#1 Donor 2 IAB-Nodes 1 UE\n",
    "\n",
    "T.add_node(0, role='donor', channel = 0, prb=106,           radio_id = 1)\n",
    "T.add_node(1, role='mt',    channel = 0, prb=106, iab='12', radio_id = 2)\n",
    "T.add_node(2, role='du',    channel = 1, prb=106, iab='12', radio_id = 3)\n",
    "T.add_node(3, role='mt',    channel = 1, prb=106, iab='34', radio_id = 4)\n",
    "T.add_node(4, role='du',    channel = 0, prb=106, iab='34', radio_id = 5)\n",
    "T.add_node(5, role='mt',    channel = 0, prb=106, iab='56', radio_id = 6)\n",
    "T.add_node(6, role='du',    channel = 1, prb=106, iab='56', radio_id = 7)\n",
    "T.add_node(7, role='mt',    channel = 1, prb=106, iab='78', radio_id = 8)\n",
    "T.add_node(8, role='du',    channel = 0, prb=106, iab='78', radio_id = 9)\n",
    "T.add_node(9, role='ue',    channel = 0, prb=106 ,          radio_id = 10)\n",
    "\n",
    "\n",
    "T.add_edge(1,0, type='wireless')\n",
    "T.add_edge(2,1, type='wired')\n",
    "T.add_edge(3,2, type='wireless')\n",
    "T.add_edge(4,3, type='wired')\n",
    "T.add_edge(5,4, type='wireless')\n",
    "T.add_edge(6,5, type='wired')\n",
    "T.add_edge(7,6, type='wireless')\n",
    "T.add_edge(8,7, type='wired')\n",
    "T.add_edge(9,8, type='wireless')\n",
    "\n",
    "\n",
    "\n",
    "nx.write_graphml(T, 'topologies/toy1.graphml')\n"
   ]
  },
  {
   "cell_type": "code",
   "execution_count": 29,
   "metadata": {},
   "outputs": [],
   "source": [
    "import pandas as pd\n",
    "import numpy as np\n",
    "mat1 = np.loadtxt('/tmp/pathlossMatrix.csv', delimiter=' ')"
   ]
  },
  {
   "cell_type": "code",
   "execution_count": 34,
   "metadata": {},
   "outputs": [
    {
     "name": "stdout",
     "output_type": "stream",
     "text": [
      "-68.89 -99.65 -118.45\n"
     ]
    },
    {
     "data": {
      "text/plain": [
       "array([[   0.  ,    0.  ,  -68.49,    0.  ,  -90.52,    0.  ,  -56.84,\n",
       "           0.  ,  -94.86,    0.  ],\n",
       "       [   0.  ,    0.  ,    0.  ,  -68.49,    0.  ,  -90.52,    0.  ,\n",
       "         -56.84,    0.  ,  -94.86],\n",
       "       [ -68.49,    0.  ,    0.  ,    0.  ,  -94.93,    0.  ,  -79.76,\n",
       "           0.  ,  -68.37,    0.  ],\n",
       "       [   0.  ,  -68.49,    0.  ,    0.  ,    0.  ,  -94.93,    0.  ,\n",
       "         -79.76,    0.  ,  -68.37],\n",
       "       [ -90.52,    0.  ,  -94.93,    0.  ,    0.  ,    0.  ,  -97.53,\n",
       "           0.  ,  -89.3 ,    0.  ],\n",
       "       [   0.  ,  -90.52,    0.  ,  -94.93,    0.  ,    0.  ,    0.  ,\n",
       "         -97.53,    0.  ,  -89.3 ],\n",
       "       [ -56.84,    0.  ,  -79.76,    0.  ,  -97.53,    0.  ,    0.  ,\n",
       "           0.  , -105.44,    0.  ],\n",
       "       [   0.  ,  -56.84,    0.  ,  -79.76,    0.  ,  -97.53,    0.  ,\n",
       "           0.  ,    0.  , -105.44],\n",
       "       [ -94.86,    0.  ,  -68.37,    0.  ,  -89.3 ,    0.  , -105.44,\n",
       "           0.  ,    0.  ,    0.  ],\n",
       "       [   0.  ,  -94.86,    0.  ,  -68.37,    0.  ,  -89.3 ,    0.  ,\n",
       "        -105.44,    0.  ,    0.  ]])"
      ]
     },
     "execution_count": 34,
     "metadata": {},
     "output_type": "execute_result"
    }
   ],
   "source": [
    "print(mat1[1,17], mat1[35,17], mat1[25,35])\n",
    "mat1[0:10,0:10]"
   ]
  },
  {
   "cell_type": "code",
   "execution_count": 35,
   "metadata": {},
   "outputs": [
    {
     "name": "stdout",
     "output_type": "stream",
     "text": [
      "-71.6 -118.49 -110.46\n"
     ]
    },
    {
     "data": {
      "text/plain": [
       "array([[   0.  ,    0.  ,  -62.37,  -62.37,  -86.73,  -86.73,  -47.15,\n",
       "         -47.15, -100.04, -100.04],\n",
       "       [   0.  ,    0.  ,  -62.37,  -62.37,  -86.73,  -86.73,  -47.15,\n",
       "         -47.15, -100.04, -100.04],\n",
       "       [ -62.37,  -62.37,    0.  ,    0.  ,  -87.9 ,  -87.9 ,  -77.97,\n",
       "         -77.97,  -58.39,  -58.39],\n",
       "       [ -62.37,  -62.37,    0.  ,    0.  ,  -87.9 ,  -87.9 ,  -77.97,\n",
       "         -77.97,  -58.39,  -58.39],\n",
       "       [ -86.73,  -86.73,  -87.9 ,  -87.9 ,    0.  ,    0.  ,  -90.81,\n",
       "         -90.81, -110.82, -110.82],\n",
       "       [ -86.73,  -86.73,  -87.9 ,  -87.9 ,    0.  ,    0.  ,  -90.81,\n",
       "         -90.81, -110.82, -110.82],\n",
       "       [ -47.15,  -47.15,  -77.97,  -77.97,  -90.81,  -90.81,    0.  ,\n",
       "           0.  , -105.41, -105.41],\n",
       "       [ -47.15,  -47.15,  -77.97,  -77.97,  -90.81,  -90.81,    0.  ,\n",
       "           0.  , -105.41, -105.41],\n",
       "       [-100.04, -100.04,  -58.39,  -58.39, -110.82, -110.82, -105.41,\n",
       "        -105.41,    0.  ,    0.  ],\n",
       "       [-100.04, -100.04,  -58.39,  -58.39, -110.82, -110.82, -105.41,\n",
       "        -105.41,    0.  ,    0.  ]])"
      ]
     },
     "execution_count": 35,
     "metadata": {},
     "output_type": "execute_result"
    }
   ],
   "source": [
    "mat = np.loadtxt('/home/gabriel/WORKS/NGI/ColosseumScenarioGenerator/scenarios/firenze2_45_0.1_28.0/colosseum/pathlossMatrix.csv', delimiter=' ')\n",
    "print(mat[1,17], mat[35,17],mat[35,25])\n",
    "mat[0:10,0:10]"
   ]
  },
  {
   "cell_type": "code",
   "execution_count": 73,
   "metadata": {},
   "outputs": [
    {
     "name": "stdout",
     "output_type": "stream",
     "text": [
      "8802.549092197061\n"
     ]
    },
    {
     "data": {
      "text/plain": [
       "155.7035426084049"
      ]
     },
     "execution_count": 73,
     "metadata": {},
     "output_type": "execute_result"
    }
   ],
   "source": [
    "import math as m\n",
    "h_bs = 10\n",
    "h_ut = 1.5\n",
    "from scipy.constants import c as speed_of_light\n",
    "from scipy.stats import norm\n",
    "\n",
    "sigma_los = 4\n",
    "sigma_nlos = 7.8\n",
    "nrv_los = norm(0, 0)#sigma_los)\n",
    "nrv_nlos = norm(0, 0)#sigma_nlos)\n",
    "\n",
    "def pathloss(d, f, los=True):\n",
    "    # ETSI TR38.901 Channel Model\n",
    "    if d < 10:\n",
    "        d = 10  # Workaround for antennas in the same location as the BS\n",
    "        # TODO: use 3d distance\n",
    "    breakpoint_distance = 2*m.pi*h_bs*h_ut*f*1e9/speed_of_light\n",
    "    print(breakpoint_distance)\n",
    "    if d < breakpoint_distance:\n",
    "        pl_los = 32.4 + 21*m.log10(d)+20*m.log10(f) + nrv_los.rvs(1)[0]\n",
    "    else:\n",
    "        pl_los = 32.4 + 40*m.log10(d)+20*m.log10(f) - 9.5*m.log10((breakpoint_distance)**2 + (h_bs-h_ut)**2) + nrv_los.rvs(1)[0]\n",
    "\n",
    "    pl_nlos = 22.4 + 35.3*m.log10(d)+21.3*m.log10(f) - 0.3*(h_ut - 1.5) + nrv_nlos.rvs(1)[0]\n",
    "\n",
    "    if los:\n",
    "        return pl_los\n",
    "    else:\n",
    "        return max(pl_los, pl_nlos)\n",
    "\n",
    "pathloss(800, 28, False)"
   ]
  }
 ],
 "metadata": {
  "kernelspec": {
   "display_name": "Python 3.10.7 64-bit",
   "language": "python",
   "name": "python3"
  },
  "language_info": {
   "codemirror_mode": {
    "name": "ipython",
    "version": 3
   },
   "file_extension": ".py",
   "mimetype": "text/x-python",
   "name": "python",
   "nbconvert_exporter": "python",
   "pygments_lexer": "ipython3",
   "version": "3.10.8"
  },
  "orig_nbformat": 4,
  "vscode": {
   "interpreter": {
    "hash": "e7370f93d1d0cde622a1f8e1c04877d8463912d04d973331ad4851f04de6915a"
   }
  }
 },
 "nbformat": 4,
 "nbformat_minor": 2
}
