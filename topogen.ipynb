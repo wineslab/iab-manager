{
 "cells": [
  {
   "cell_type": "code",
   "execution_count": 4,
   "metadata": {},
   "outputs": [],
   "source": [
    "import networkx as nx\n",
    "\n",
    "T = nx.DiGraph()\n",
    "\n",
    "\n",
    "#1-2-3-4-5-6-7-8-9-10\n",
    "#1 Donor 2 IAB-Nodes 1 UE\n",
    "\n",
    "T.add_node(0, role='donor', channel = 0, prb=106,           radio_id = 1)\n",
    "T.add_node(1, role='mt',    channel = 0, prb=106, iab='12', radio_id = 2)\n",
    "T.add_node(2, role='du',    channel = 1, prb=106, iab='12', radio_id = 3)\n",
    "T.add_node(3, role='mt',    channel = 1, prb=106, iab='34', radio_id = 4)\n",
    "T.add_node(4, role='du',    channel = 0, prb=106, iab='34', radio_id = 5)\n",
    "T.add_node(5, role='mt',    channel = 0, prb=106, iab='56', radio_id = 6)\n",
    "T.add_node(6, role='du',    channel = 1, prb=106, iab='56', radio_id = 7)\n",
    "T.add_node(7, role='mt',    channel = 1, prb=106, iab='78', radio_id = 8)\n",
    "T.add_node(8, role='du',    channel = 0, prb=106, iab='78', radio_id = 9)\n",
    "T.add_node(9, role='ue',    channel = 0, prb=106 ,          radio_id = 10)\n",
    "\n",
    "\n",
    "T.add_edge(1,0, type='wireless')\n",
    "T.add_edge(2,1, type='wired')\n",
    "T.add_edge(3,2, type='wireless')\n",
    "T.add_edge(4,3, type='wired')\n",
    "T.add_edge(5,4, type='wireless')\n",
    "T.add_edge(6,5, type='wired')\n",
    "T.add_edge(7,6, type='wireless')\n",
    "T.add_edge(8,7, type='wired')\n",
    "T.add_edge(9,8, type='wireless')\n",
    "\n",
    "\n",
    "\n",
    "nx.write_graphml(T, 'topologies/toy1.graphml')\n"
   ]
  }
 ],
 "metadata": {
  "kernelspec": {
   "display_name": "Python 3.10.7 64-bit",
   "language": "python",
   "name": "python3"
  },
  "language_info": {
   "codemirror_mode": {
    "name": "ipython",
    "version": 3
   },
   "file_extension": ".py",
   "mimetype": "text/x-python",
   "name": "python",
   "nbconvert_exporter": "python",
   "pygments_lexer": "ipython3",
   "version": "3.10.7"
  },
  "orig_nbformat": 4,
  "vscode": {
   "interpreter": {
    "hash": "e7370f93d1d0cde622a1f8e1c04877d8463912d04d973331ad4851f04de6915a"
   }
  }
 },
 "nbformat": 4,
 "nbformat_minor": 2
}
